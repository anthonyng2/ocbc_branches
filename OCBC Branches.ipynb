{
 "cells": [
  {
   "cell_type": "markdown",
   "metadata": {},
   "source": [
    "# OCBC Open Source API - Branch Locator\n",
    "In line with Singapores' vision to be a Smart Financial Cente, **OCBC** launched their open [API platform](https://api.ocbc.com/store/api_products). They are the first bank in Singapore to open source their banking data. For a data science enthusiast, it was a dream come true.\n",
    "\n",
    "They have open sourced the following:\n",
    "* Branch Locator\n",
    "* Credit Card Advisor\n",
    "* ATM Locator\n",
    "* Forex"
   ]
  },
  {
   "cell_type": "markdown",
   "metadata": {},
   "source": [
    "Borrowing ideas from [Code Club](http://nbviewer.jupyter.org/gist/psychemedia/f7385255f89137c503b5/week7_mapping.ipynb), and using the [Folium](https://github.com/python-visualization/folium) library, I coded up the following to visualise the locations of OCBC Branches. \n",
    "\n",
    "Quite trivial, but it was a fun project. "
   ]
  },
  {
   "cell_type": "code",
   "execution_count": 1,
   "metadata": {
    "collapsed": true
   },
   "outputs": [],
   "source": [
    "import warnings\n",
    "warnings.filterwarnings('ignore')\n",
    "import pandas as pd\n",
    "import folium\n",
    "from IPython.display import HTML"
   ]
  },
  {
   "cell_type": "code",
   "execution_count": 2,
   "metadata": {
    "collapsed": false
   },
   "outputs": [
    {
     "data": {
      "text/html": [
       "<div>\n",
       "<table border=\"1\" class=\"dataframe\">\n",
       "  <thead>\n",
       "    <tr style=\"text-align: right;\">\n",
       "      <th></th>\n",
       "      <th>address</th>\n",
       "      <th>landmark</th>\n",
       "      <th>latitude</th>\n",
       "      <th>longitude</th>\n",
       "      <th>postalCode</th>\n",
       "    </tr>\n",
       "  </thead>\n",
       "  <tbody>\n",
       "    <tr>\n",
       "      <th>0</th>\n",
       "      <td>446 Pasir Ris Drive 6|#01-112</td>\n",
       "      <td>Pasir Ris Drive 6 - 7-Eleven</td>\n",
       "      <td>1.370316</td>\n",
       "      <td>103.957702</td>\n",
       "      <td>Singapore 510446</td>\n",
       "    </tr>\n",
       "    <tr>\n",
       "      <th>1</th>\n",
       "      <td>8 Raffles Avenue|#01-K1</td>\n",
       "      <td>Esplanade Mall</td>\n",
       "      <td>1.289509</td>\n",
       "      <td>103.855511</td>\n",
       "      <td>Singapore 39802</td>\n",
       "    </tr>\n",
       "    <tr>\n",
       "      <th>2</th>\n",
       "      <td>5 Raffles Place</td>\n",
       "      <td>Raffles Place MRT Station</td>\n",
       "      <td>1.284610</td>\n",
       "      <td>103.851497</td>\n",
       "      <td>Singapore 048618</td>\n",
       "    </tr>\n",
       "    <tr>\n",
       "      <th>3</th>\n",
       "      <td>30 Raffles Place|Level 1</td>\n",
       "      <td>Chevron House</td>\n",
       "      <td>1.284533</td>\n",
       "      <td>103.851937</td>\n",
       "      <td>Singapore 048622</td>\n",
       "    </tr>\n",
       "    <tr>\n",
       "      <th>4</th>\n",
       "      <td>1 Tanjong Pagar Road|#01-32 Tanjong Pagar Plaza</td>\n",
       "      <td>Tanjong Pagar Plaza - 7-Eleven</td>\n",
       "      <td>1.274842</td>\n",
       "      <td>103.842705</td>\n",
       "      <td>Singapore 082001</td>\n",
       "    </tr>\n",
       "  </tbody>\n",
       "</table>\n",
       "</div>"
      ],
      "text/plain": [
       "                                           address  \\\n",
       "0                    446 Pasir Ris Drive 6|#01-112   \n",
       "1                          8 Raffles Avenue|#01-K1   \n",
       "2                                  5 Raffles Place   \n",
       "3                         30 Raffles Place|Level 1   \n",
       "4  1 Tanjong Pagar Road|#01-32 Tanjong Pagar Plaza   \n",
       "\n",
       "                         landmark  latitude   longitude        postalCode  \n",
       "0    Pasir Ris Drive 6 - 7-Eleven  1.370316  103.957702  Singapore 510446  \n",
       "1                  Esplanade Mall  1.289509  103.855511   Singapore 39802  \n",
       "2       Raffles Place MRT Station  1.284610  103.851497  Singapore 048618  \n",
       "3                   Chevron House  1.284533  103.851937  Singapore 048622  \n",
       "4  Tanjong Pagar Plaza - 7-Eleven  1.274842  103.842705  Singapore 082001  "
      ]
     },
     "execution_count": 2,
     "metadata": {},
     "output_type": "execute_result"
    }
   ],
   "source": [
    "df = pd.read_json(\"branch.json\", orient=\"values\")\n",
    "df.head()"
   ]
  },
  {
   "cell_type": "code",
   "execution_count": 3,
   "metadata": {
    "collapsed": false
   },
   "outputs": [],
   "source": [
    "def inline_map(map):\n",
    "    map._build_map()\n",
    "    return HTML('<iframe srcdoc=\"{srcdoc}\" style=\"width: 100%; \\\n",
    "                height: 510px; border: \\\n",
    "                none\"></iframe>'.format(srcdoc=map.HTML.replace('\"', '&quot;')))\n",
    " \n",
    "def embed_map(map, path=\"map.html\"):\n",
    "    map.create_map(path=path)\n",
    "    return HTML('<iframe src=\"files/{path}\" style=\"width: 100%; \\\n",
    "                height: 800px; border: none\"></iframe>'.format(path=path))"
   ]
  },
  {
   "cell_type": "code",
   "execution_count": 4,
   "metadata": {
    "collapsed": true
   },
   "outputs": [],
   "source": [
    "ocbc_map = folium.Map(location=[1.3445369, 103.8308903], zoom_start=12)"
   ]
  },
  {
   "cell_type": "code",
   "execution_count": 5,
   "metadata": {
    "collapsed": false
   },
   "outputs": [
    {
     "data": {
      "text/html": [
       "<iframe src=\"files/map.html\" style=\"width: 100%;                 height: 800px; border: none\"></iframe>"
      ],
      "text/plain": [
       "<IPython.core.display.HTML object>"
      ]
     },
     "execution_count": 5,
     "metadata": {},
     "output_type": "execute_result"
    }
   ],
   "source": [
    "for oo in df.iterrows():\n",
    "    coordinates = [oo[1][\"latitude\"], oo[1][\"longitude\"]]\n",
    "    ocbc_map.circle_marker(coordinates, fill_color='blue', \n",
    "                       line_color='blue', radius = 10)\n",
    "embed_map(ocbc_map)  "
   ]
  },
  {
   "cell_type": "code",
   "execution_count": 6,
   "metadata": {
    "collapsed": true
   },
   "outputs": [],
   "source": [
    "ocbc_map.create_map(path='OCBC_Branches.html')"
   ]
  }
 ],
 "metadata": {
  "kernelspec": {
   "display_name": "Python 2",
   "language": "python",
   "name": "python2"
  },
  "language_info": {
   "codemirror_mode": {
    "name": "ipython",
    "version": 2
   },
   "file_extension": ".py",
   "mimetype": "text/x-python",
   "name": "python",
   "nbconvert_exporter": "python",
   "pygments_lexer": "ipython2",
   "version": "2.7.11"
  }
 },
 "nbformat": 4,
 "nbformat_minor": 0
}
